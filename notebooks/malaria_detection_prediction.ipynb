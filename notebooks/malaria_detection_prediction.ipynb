{
 "cells": [
  {
   "cell_type": "markdown",
   "id": "237c0f25-d233-4a38-b036-021c1c237cf3",
   "metadata": {},
   "source": [
    "# Importing Libraries"
   ]
  },
  {
   "cell_type": "code",
   "execution_count": 2,
   "id": "fa148d48-434e-4129-91d2-cd2d06ae16be",
   "metadata": {},
   "outputs": [],
   "source": [
    "import tensorflow as tf\n",
    "from tkinter import *\n",
    "from tkinter import ttk\n",
    "from tkinter import filedialog\n",
    "from PIL import Image, ImageOps\n",
    "import numpy as np\n",
    "import os"
   ]
  },
  {
   "cell_type": "markdown",
   "id": "645358a2-81da-466d-a71a-9b031fef2262",
   "metadata": {},
   "source": [
    "# Basic Interface to predict the status of a single image"
   ]
  },
  {
   "cell_type": "code",
   "execution_count": 7,
   "id": "a56d1d0a-c2d3-4477-bc83-36b345d1acb5",
   "metadata": {},
   "outputs": [
    {
     "name": "stdout",
     "output_type": "stream",
     "text": [
      "Model loaded successfully\n",
      "\u001b[1m1/1\u001b[0m \u001b[32m━━━━━━━━━━━━━━━━━━━━\u001b[0m\u001b[37m\u001b[0m \u001b[1m0s\u001b[0m 245ms/step\n"
     ]
    }
   ],
   "source": [
    "class Root(Tk):\n",
    "    def __init__(self):\n",
    "        super(Root, self).__init__()\n",
    "        self.title(\"Parasitic Detection GUI\")\n",
    "        self.minsize(640, 400)\n",
    "\n",
    "        # Load the saved model\n",
    "        self.model = self.load_model(\"malaria_detect_model.keras\")\n",
    "\n",
    "        # Set up the label frame\n",
    "        self.labelFrame = ttk.LabelFrame(self, text=\"Open File\")\n",
    "        self.labelFrame.grid(column=0, row=1, padx=20, pady=20)\n",
    "\n",
    "        # Initialize filename\n",
    "        self.filename = \"\"\n",
    "\n",
    "        # Add buttons and labels\n",
    "        self.button()\n",
    "        self.submit_button()\n",
    "        self.result_label = ttk.Label(self.labelFrame, text=\"\")\n",
    "        self.result_label.grid(column=1, row=3, pady=10)\n",
    "\n",
    "    def load_model(self, model_path):\n",
    "        try:\n",
    "            # Load the saved Keras model\n",
    "            model = tf.keras.models.load_model(model_path)\n",
    "            print(\"Model loaded successfully\")\n",
    "            return model\n",
    "        except Exception as e:\n",
    "            print(f\"Error loading model: {e}\")\n",
    "            self.result_label.configure(text=\"Error loading model.\")\n",
    "            return None\n",
    "\n",
    "    def button(self):\n",
    "        self.browse_button = ttk.Button(self.labelFrame, text=\"Browse A File\", command=self.fileDialog)\n",
    "        self.browse_button.grid(column=1, row=1)\n",
    "\n",
    "    def fileDialog(self):\n",
    "        # Open file dialog to select an image\n",
    "        self.filename = filedialog.askopenfilename(\n",
    "            initialdir=\"/\", title=\"Select An Image File\",\n",
    "            filetypes=((\"Image files\", \"*.png;*.jpg;*.jpeg\"), (\"All files\", \"*.*\"))\n",
    "        )\n",
    "        \n",
    "        if self.filename:  # Check if a file is selected\n",
    "            self.result_label.configure(text=f\"Selected file: {os.path.basename(self.filename)}\")\n",
    "        else:\n",
    "            self.result_label.configure(text=\"No file selected.\")\n",
    "\n",
    "    def preprocess_image(self, file_path):\n",
    "        try:\n",
    "            # Load the image and preprocess it\n",
    "            image = Image.open(file_path)\n",
    "            # Resize the image to the expected input size (e.g., 64x64 or 224x224 based on model)\n",
    "            image = image.resize((64, 64), resample=Image.Resampling.LANCZOS)  # Change to 224 if needed\n",
    "            image = np.array(image) / 255.0  # Normalize to [0, 1]\n",
    "            image = np.expand_dims(image, axis=0)  # Add batch dimension\n",
    "            return image\n",
    "        except Exception as e:\n",
    "            print(f\"Error loading image: {e}\")\n",
    "            self.result_label.configure(text=f\"Error loading image: {e}\")\n",
    "            return None\n",
    "\n",
    "\n",
    "    \n",
    "    def get_prediction(self):\n",
    "        if not self.filename:\n",
    "            self.result_label.configure(text=\"Please select an image file.\")\n",
    "            return\n",
    "\n",
    "        self.result_label.configure(text=\"Predicting... Please wait.\")  # Indicate progress\n",
    "\n",
    "        try:\n",
    "            # Preprocess the image\n",
    "            image = self.preprocess_image(self.filename)\n",
    "            if image is not None:\n",
    "                # Perform prediction using the loaded model\n",
    "                prediction = self.model.predict(image)\n",
    "                result = \"Non-Parasitic\" if prediction[0][0] < 0.5 else \"Parasitic\"\n",
    "                self.result_label.configure(text=f\"Prediction: {result}\")\n",
    "        except Exception as e:\n",
    "            print(f\"Error during prediction: {e}\")\n",
    "            self.result_label.configure(text=f\"Error: {e}\")\n",
    "\n",
    "    def submit_button(self):\n",
    "        self.submit_button = ttk.Button(self.labelFrame, text=\"Submit\", command=self.get_prediction)\n",
    "        self.submit_button.grid(column=1, row=2, pady=10)\n",
    "\n",
    "if __name__ == \"__main__\":\n",
    "    root = Root()\n",
    "    root.mainloop()\n"
   ]
  },
  {
   "cell_type": "code",
   "execution_count": null,
   "id": "bbc90ca9-c017-4ccc-b413-5eb05c205cb5",
   "metadata": {},
   "outputs": [],
   "source": []
  }
 ],
 "metadata": {
  "kernelspec": {
   "display_name": "Python 3 (ipykernel)",
   "language": "python",
   "name": "python3"
  },
  "language_info": {
   "codemirror_mode": {
    "name": "ipython",
    "version": 3
   },
   "file_extension": ".py",
   "mimetype": "text/x-python",
   "name": "python",
   "nbconvert_exporter": "python",
   "pygments_lexer": "ipython3",
   "version": "3.12.4"
  }
 },
 "nbformat": 4,
 "nbformat_minor": 5
}
