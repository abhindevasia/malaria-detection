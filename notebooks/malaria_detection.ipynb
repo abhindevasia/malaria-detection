{
 "cells": [
  {
   "cell_type": "markdown",
   "id": "438fd363-871d-486e-a482-383e0e9ffe27",
   "metadata": {},
   "source": [
    "# Malaria Detection From Microscopic Blood Smear Images"
   ]
  },
  {
   "cell_type": "markdown",
   "id": "e62af149-5956-43bc-8b0d-248633b62f6a",
   "metadata": {},
   "source": [
    "# Importing Libraries"
   ]
  },
  {
   "cell_type": "code",
   "execution_count": 155,
   "id": "3b199c20-2a25-4cbb-bffb-7f2ec06a64f0",
   "metadata": {},
   "outputs": [],
   "source": [
    "import os\n",
    "import cv2\n",
    "import numpy as np\n",
    "import matplotlib.pyplot as plt\n",
    "from tensorflow.keras.models import Sequential\n",
    "from tensorflow.keras.layers import Conv2D, MaxPooling2D, Flatten, Dense, Dropout, BatchNormalization\n",
    "from tensorflow.keras.optimizers import Adam\n",
    "from tensorflow.keras.preprocessing.image import ImageDataGenerator\n",
    "from tensorflow.keras.callbacks import EarlyStopping, ReduceLROnPlateau\n",
    "import tensorflow as tf\n",
    "from PIL import Image, ImageOps"
   ]
  },
  {
   "cell_type": "markdown",
   "id": "df330da9-5294-4e78-968e-8711ceeaba58",
   "metadata": {},
   "source": [
    "# Preparing datasets and preprocessing for model creation"
   ]
  },
  {
   "cell_type": "code",
   "execution_count": 162,
   "id": "cd34da2d-6071-4d37-a576-ec6404b6675f",
   "metadata": {},
   "outputs": [],
   "source": [
    "# Paths to dataset directories\n",
    "inf_train_inf_dir = 'data/train/Parasitized/'\n",
    "inf_train_norm_dir = 'data/train/Uninfected/'\n",
    "\n",
    "# Load and preprocess infected images\n",
    "infected_images = []\n",
    "for img in os.listdir(inf_train_inf_dir):\n",
    "    if img.endswith(\".png\"):\n",
    "        image = cv2.imread(os.path.join(inf_train_inf_dir, img))\n",
    "        resized_image = cv2.resize(image, (64, 64))\n",
    "        infected_images.append(resized_image)\n",
    "\n",
    "train_infected = np.array(infected_images, dtype='float32') / 255.0\n",
    "\n",
    "# Load and preprocess uninfected images\n",
    "uninfected_images = []\n",
    "for img in os.listdir(inf_train_norm_dir):\n",
    "    if img.endswith(\".png\"):\n",
    "        image = cv2.imread(os.path.join(inf_train_norm_dir, img))\n",
    "        resized_image = cv2.resize(image, (64, 64))\n",
    "        uninfected_images.append(resized_image)\n",
    "\n",
    "train_uninfected = np.array(uninfected_images, dtype='float32') / 255.0\n",
    "\n",
    "# Create labels for uninfected (0) and infected (1)\n",
    "labels_uninfected = np.zeros((train_uninfected.shape[0], 1))  # Label 0 for uninfected\n",
    "labels_infected = np.ones((train_infected.shape[0], 1))       # Label 1 for infected\n",
    "\n",
    "# Split data into training and testing sets\n",
    "Xtrain = np.concatenate((train_uninfected[8717:], train_infected[8717:]))\n",
    "Xtest = np.concatenate((train_uninfected[:8717], train_infected[:8717]))\n",
    "ytrain = np.concatenate((labels_uninfected[8717:], labels_infected[8717:]))\n",
    "ytest = np.concatenate((labels_uninfected[:8717], labels_infected[:8717]))\n",
    "\n",
    "# Flatten labels for use in ImageDataGenerator\n",
    "ytrain = ytrain.flatten()\n",
    "ytest = ytest.flatten()\n",
    "\n",
    "# Data Augmentation: Define the data augmentation techniques\n",
    "datagen = ImageDataGenerator(\n",
    "    rotation_range=20,       # Random rotations\n",
    "    width_shift_range=0.2,   # Random horizontal shift\n",
    "    height_shift_range=0.2,  # Random vertical shift\n",
    "    shear_range=0.2,         # Random shear\n",
    "    zoom_range=0.2,          # Random zoom\n",
    "    horizontal_flip=True,    # Random horizontal flip\n",
    "    fill_mode='nearest'      # Fill missing pixels after transformation\n",
    ")\n",
    "\n",
    "# Augment the training data\n",
    "train_data_gen = datagen.flow(Xtrain, ytrain, batch_size=32)"
   ]
  },
  {
   "cell_type": "markdown",
   "id": "531e3258-ae86-4254-8960-5aa09c3b9e2a",
   "metadata": {},
   "source": [
    "# Building Model"
   ]
  },
  {
   "cell_type": "code",
   "execution_count": null,
   "id": "629d2aaf-d2a1-447c-868d-0c0b9bebf36f",
   "metadata": {},
   "outputs": [],
   "source": [
    "# Model Definition: Define the CNN architecture with improvements\n",
    "model = Sequential()\n",
    "\n",
    "# Convolutional layers with Batch Normalization and MaxPooling\n",
    "model.add(Conv2D(32, (3, 3), activation='relu', input_shape=(64, 64, 3)))\n",
    "model.add(BatchNormalization())\n",
    "model.add(MaxPooling2D(pool_size=(2, 2)))\n",
    "\n",
    "model.add(Conv2D(64, (3, 3), activation='relu'))\n",
    "model.add(BatchNormalization())\n",
    "model.add(MaxPooling2D(pool_size=(2, 2)))\n",
    "\n",
    "model.add(Conv2D(128, (3, 3), activation='relu'))\n",
    "model.add(BatchNormalization())\n",
    "model.add(MaxPooling2D(pool_size=(2, 2)))\n",
    "\n",
    "# Flatten the output of the convolutional layers\n",
    "model.add(Flatten())\n",
    "\n",
    "# Fully connected layers with Dropout to reduce overfitting\n",
    "model.add(Dense(128, activation='relu'))\n",
    "model.add(Dropout(0.5))  # Dropout layer to prevent overfitting\n",
    "\n",
    "# Output layer for binary classification\n",
    "model.add(Dense(1, activation='sigmoid'))\n",
    "\n",
    "# Compile the model\n",
    "model.compile(optimizer=Adam(learning_rate=0.0001),\n",
    "              loss='binary_crossentropy',\n",
    "              metrics=['accuracy'])\n",
    "\n",
    "# Callbacks: EarlyStopping and ReduceLROnPlateau to avoid overfitting\n",
    "early_stopping = EarlyStopping(monitor='val_loss', patience=5, restore_best_weights=True)\n",
    "reduce_lr = ReduceLROnPlateau(monitor='val_loss', factor=0.5, patience=2, min_lr=1e-6)\n",
    "\n",
    "# Train the model\n",
    "history = model.fit(\n",
    "    train_data_gen,\n",
    "    epochs=50,\n",
    "    validation_data=(Xtest, ytest),\n",
    "    batch_size=32,\n",
    "    callbacks=[early_stopping, reduce_lr]\n",
    ")\n",
    "\n",
    "# Plot the training and validation accuracy/loss\n",
    "plt.figure(figsize=(12, 6))\n",
    "plt.subplot(1, 2, 1)\n",
    "plt.plot(history.history['accuracy'], label='Training Accuracy')\n",
    "plt.plot(history.history['val_accuracy'], label='Validation Accuracy')\n",
    "plt.title('Accuracy Over Epochs')\n",
    "plt.xlabel('Epochs')\n",
    "plt.ylabel('Accuracy')\n",
    "plt.legend()\n",
    "\n",
    "plt.subplot(1, 2, 2)\n",
    "plt.plot(history.history['loss'], label='Training Loss')\n",
    "plt.plot(history.history['val_loss'], label='Validation Loss')\n",
    "plt.title('Loss Over Epochs')\n",
    "plt.xlabel('Epochs')\n",
    "plt.ylabel('Loss')\n",
    "plt.legend()\n",
    "\n",
    "plt.tight_layout()\n",
    "plt.show()"
   ]
  },
  {
   "cell_type": "markdown",
   "id": "8a289210-253b-403a-9400-010b43cb37fd",
   "metadata": {},
   "source": [
    "# Saving Model"
   ]
  },
  {
   "cell_type": "code",
   "execution_count": 77,
   "id": "070f9f9f-5a54-438a-bc28-ac1c31d42b05",
   "metadata": {},
   "outputs": [],
   "source": [
    "model.save('models/malaria_detect_model.keras')"
   ]
  }
 ],
 "metadata": {
  "kernelspec": {
   "display_name": "Python 3 (ipykernel)",
   "language": "python",
   "name": "python3"
  },
  "language_info": {
   "codemirror_mode": {
    "name": "ipython",
    "version": 3
   },
   "file_extension": ".py",
   "mimetype": "text/x-python",
   "name": "python",
   "nbconvert_exporter": "python",
   "pygments_lexer": "ipython3",
   "version": "3.12.4"
  }
 },
 "nbformat": 4,
 "nbformat_minor": 5
}
